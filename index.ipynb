{
 "cells": [
  {
   "cell_type": "markdown",
   "metadata": {},
   "source": [
    "# Curse of Dimensionality Simulation - Lab\n",
    "\n",
    "## Introduction\n",
    "\n",
    "The Curse of Dimensionality as we saw earlier, is one of the key problems in multivariate machine learning with high dimensional data. It appears in many different forms, but all of them have the same net form and source: the fact that points in high-dimensional space are highly sparse, and this leads to overfitting. In this lab, we shall try to simulate this problem see how it manifests itself in s simple experimental setup. \n",
    "\n",
    "__Note: You are advised to read the [additional document on hypercubes](http://www.maths.manchester.ac.uk/~mlotz/teaching/suprises.pdf) referenced the previous lesson before attempting these simulations.__\n",
    "\n",
    "## Objectives\n",
    "\n",
    "You will be able to:\n",
    "\n",
    "- Understand how dimensionality effects the probability space and the accuracy of each observation\n",
    "- Simulate the effect of distance between observations as dimensionality increases\n",
    "- Simulate the effect of dimensionality on the volume of hypercubes. "
   ]
  },
  {
   "cell_type": "markdown",
   "metadata": {},
   "source": [
    "## Dimensionality vs. Probability Space\n",
    "Let us consider probability space for one variable represented by the unit interval (0, 1). Imagine drawing ten samples along that interval. On such a 1D interval (a straight line), __each sample would represent 10% of the probability space__. You could imagine a straight line , divided into ten sections.  \n",
    "<img src=\"1D.png\" width=300>\n",
    "\n",
    "Now consider a second feature defined on another orthogonal (perpendicular) (0, 1) interval, also being represented by ten samples. We now have 10 $(x1 , x2)$ points on a plane defined by the orthogonal x1 , x2 lines, and representing a new probability space. This is shown below:\n",
    "\n",
    "\n",
    "![](curse_1.gif)\n",
    "\n",
    "Now we have a new feature space that has $10 X 10 = 100$ area units, __so each of the ten points now represents only 1% of the probability space__. We now need require 100 points, in order for each point to represent the same 10% of the probability space that was represented by 10 points in only one dimension. Now, although there are 100 $(x1 , x2)$ points, neither axis has more __accuracy__ than previous 10 on a single axis, because there are 10 values of x1 required for the 10 different values of x2 necessary to represent the new probability plane. \n",
    "\n",
    "Taking this further,consider adding a third dimension creating a probability space represented by a __cube__ with ten units on a side, and 1000 probability units within. We need to stack 10 of the previous $(x1 , x2)$ planes to construct the new $(x1 , x2 , x3)$ cube, and of course 10 times the number of samples per axis to maintain the former level of accuracy, or probability coverage. This is shown below:\n",
    "\n",
    "![](cube.gif)\n",
    "\n",
    "We can conclude that $10^n$ samples would be required for a n-dimension problem. This is the \"curse of dimensionality\" .In practice when the samples are taken at random, it appears as though there are more samples, but this isn't the case in terms of probability space coverage which is related to the density of points, not the number of observations per axis."
   ]
  },
  {
   "cell_type": "markdown",
   "metadata": {},
   "source": [
    "## Dimensionality vs. Euclidean Distance\n",
    "\n",
    "Let's simulate the above behavior with two points only which lie at 0 and 1 on a single dimension, at a unit length from each other. Suppose we introduce a second axis of \"data\", again distributed a unit distance away. Now we have two points, (0,0) and (1,1). But the distance between the points has grown to $\\sqrt{2}$ according to Euclidean distance $$d(x,y) = \\sqrt{(x_1 - y_1)^2 +.....(X_N - y_N)^2}$$\n",
    "\n",
    "if we add a third dimension, the two points (0, 0, 0) and (1, 1, 1) will be $\\sqrt{3}$ away, and so on. By the time we reach 10 dimensions, the two points are now a distance of 3 away from one another: thrice as far as they were when the data was 1-dimensional: \n",
    "\n",
    "### Simulate the above scanario and plot the output as a line plot with number of dimensions on x-axis and euclidean distance at Y-axis as shown in the output "
   ]
  },
  {
   "cell_type": "code",
   "execution_count": 2,
   "metadata": {},
   "outputs": [
    {
     "data": {
      "text/plain": [
       "[<matplotlib.lines.Line2D at 0x7fbb411b77f0>]"
      ]
     },
     "execution_count": 2,
     "metadata": {},
     "output_type": "execute_result"
    },
    {
     "data": {
      "image/png": "[encoded data removed]",
      "text/plain": [
       "<Figure size 864x432 with 1 Axes>"
      ]
     },
     "metadata": {},
     "output_type": "display_data"
    }
   ],
   "source": [
    "# Your code here \n",
    "import matplotlib.pyplot as plt\n",
    "plt.style.use('ggplot')\n",
    "\n",
    "import numpy as np\n",
    "plt.figure(figsize=(12, 6))\n",
    "plt.title(\n",
    "    \"Euclidean Distance between $[0]^{n}$ and $[1]^{ n}$ for $n \\in \\{1, \\ldots, 10\\}$\"\n",
    ")\n",
    "plt.xlabel('$n$')\n",
    "plt.ylabel('$|| a - b ||_2$')\n",
    "plt.plot(range(1, 10), np.sqrt(range(1, 10)))"
   ]
  },
  {
   "cell_type": "markdown",
   "metadata": {},
   "source": [
    "## Dimensionality vs. Volume of a Hypercube\n",
    "Let's formalize it a bit more. Consider a  p -dimensional hypercube with unit volume. Suppose that we have $n$  data points uniformally distributed inside the hypercube. The volume (area) of a square is  $e^2$ , where  $e$  is the edge length; the volume of a cube is  $e^3$ , and so on . Hence the volume of a  p -dimensional hypercube is given by:\n",
    "\n",
    "$$Vp=1=e^p$$\n",
    " \n",
    "Let  $r$  be the ratio of points inside the cube which are within some neighborhood. To capture an $r$ with maximum points in the data, we need to grow a cube which takes up $r$ of the unit cube's volume. Since the length of an edge on the cube is simply 1, we have:\n",
    "\n",
    "$$r=e^p$$\n",
    " \n",
    "Expressed in terms of  $e_p$ , the edge length necessary to fill a p-dimensional -hypercube, we have that:\n",
    "\n",
    "$$e_p(r)=r^{1/p}$$\n",
    " \n",
    "This means, in order to capture 10% (0.1) of the samples in 2 dimensions, we need  $e_2(.1)=(.1)^{1/2}=0.31$. \n",
    "\n",
    "But in 10-d space we need $e_10(.1)=(.1)^1/10=0.8$ , or 80 percent of the volume of the cube. \n",
    "\n",
    "### Use $e_p(r)=r^{1/p}$ to calculate percentage of volume covered for p = [1,..,10]. Produce the output as shown below:"
   ]
  },
  {
   "cell_type": "code",
   "execution_count": null,
   "metadata": {},
   "outputs": [
    {
     "data": {
      "text/plain": [
       "<matplotlib.legend.Legend at 0x7fbb40f6dc50>"
      ]
     },
     "execution_count": 3,
     "metadata": {},
     "output_type": "execute_result"
    }
   ],
   "source": [
    "# Your code here \n",
    "plt.figure(figsize=(12, 6))\n",
    "plt.title(\n",
    "    \"% volume covered by $r$ uniform samples on a $p$-hypercube\"\n",
    ")\n",
    "plt.xlabel('$p$')\n",
    "plt.ylabel('% volume covered')\n",
    "\n",
    "plt.plot(range(1, 10), [0.1**(1/n) for n in range(1, 10)], label=\"r = 10%\")\n",
    "plt.plot(range(1, 10), [0.2**(1/n) for n in range(1, 10)], label=\"r = 20%\")\n",
    "plt.plot(range(1, 10), [0.33**(1/n) for n in range(1, 10)], label=\"r = 33%\")\n",
    "plt.plot(range(1, 10), [0.5**(1/n) for n in range(1, 10)], label=\"r = 50%\")\n",
    "plt.plot(range(1, 10), [0.8**(1/n) for n in range(1, 10)], label=\"r = 80%\")\n",
    "plt.legend()"
   ]
  },
  {
   "cell_type": "markdown",
   "metadata": {},
   "source": [
    "### Observation 1\n",
    "> We see that as   $p$  grows, the proportion of volume of the hypercube that we need ($r$) also grows. \n",
    "\n",
    "What starts out needing just 10% of the volume grows to needing almost 80% of the volume as we see in the plot above. "
   ]
  },
  {
   "cell_type": "markdown",
   "metadata": {},
   "source": [
    "### Observation 2\n",
    "\n",
    "> The growth is uneven across the percentage  $r$  we want to capture. \n",
    "\n",
    "To capture 80% of the points, we start out needing 80% of the volume and end up needing ~95% of it. This is more than we needed to start with, but a significantly slower rate of growth than the 10%-to-80% growth to get 10% of  r.  "
   ]
  },
  {
   "cell_type": "markdown",
   "metadata": {},
   "source": [
    "## Summary \n",
    "\n",
    "In this lesson, we looked at curse of dimensionality and saw how this issues manifests itself as the number of dimensions grow. We ran a couple of simulations based on the developed intuitions to conclude the two observations given at the end.  "
   ]
  }
 ],
 "metadata": {
  "kernelspec": {
   "display_name": "Python 3",
   "language": "python",
   "name": "python3"
  },
  "language_info": {
   "codemirror_mode": {
    "name": "ipython",
    "version": 3
   },
   "file_extension": ".py",
   "mimetype": "text/x-python",
   "name": "python",
   "nbconvert_exporter": "python",
   "pygments_lexer": "ipython3",
   "version": "3.6.6"
  }
 },
 "nbformat": 4,
 "nbformat_minor": 2
}
